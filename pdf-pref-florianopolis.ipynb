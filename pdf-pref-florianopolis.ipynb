{
 "cells": [
  {
   "cell_type": "markdown",
   "metadata": {},
   "source": [
    "# Download de Notas Fiscais da Prefeitura de Florianópolis"
   ]
  },
  {
   "cell_type": "code",
   "execution_count": 5,
   "metadata": {},
   "outputs": [],
   "source": [
    "import pyautogui\n",
    "import time\n",
    "import pyperclip\n",
    "import pandas as pd"
   ]
  },
  {
   "cell_type": "code",
   "execution_count": null,
   "metadata": {},
   "outputs": [],
   "source": [
    "#importando a base para criar os links\n",
    "\n",
    "dados = pd.read_excel('./teste.xlsx')\n",
    "dados"
   ]
  },
  {
   "cell_type": "code",
   "execution_count": 4,
   "metadata": {},
   "outputs": [],
   "source": [
    "#abrir navegador\n",
    "pyautogui.press('winleft')\n",
    "pyautogui.write('chrome')\n",
    "time.sleep(2)\n",
    "pyautogui.press('enter')\n",
    "time.sleep(3)\n",
    "\n",
    "#abrir o site e baixar a NF para cada linha do arquivo\n",
    "for index, row in dados.iterrows():\n",
    "    link = row['link']\n",
    "    pyautogui.hotkey('ctrl','t')\n",
    "    pyperclip.copy(link)\n",
    "    pyautogui.hotkey('ctrl', 'v')\n",
    "    pyautogui.press('enter')\n",
    "    time.sleep(4)\n",
    "    pyautogui.click(1250, 330)\n",
    "    time.sleep(1)\n",
    "    pyautogui.hotkey('ctrl','w')\n",
    "    time.sleep(1)\n",
    "\n",
    "pyautogui.hotkey('ctrl','w')"
   ]
  }
 ],
 "metadata": {
  "kernelspec": {
   "display_name": "Python 3 (ipykernel)",
   "language": "python",
   "name": "python3"
  },
  "language_info": {
   "codemirror_mode": {
    "name": "ipython",
    "version": 3
   },
   "file_extension": ".py",
   "mimetype": "text/x-python",
   "name": "python",
   "nbconvert_exporter": "python",
   "pygments_lexer": "ipython3",
   "version": "3.9.16"
  },
  "vscode": {
   "interpreter": {
    "hash": "c946f5a890eb13039cb78bfbacf0377eda52ce4e58b8238cd05077f84668fc17"
   }
  }
 },
 "nbformat": 4,
 "nbformat_minor": 2
}
